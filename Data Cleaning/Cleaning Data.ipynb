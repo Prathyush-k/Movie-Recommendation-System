{
 "cells": [
  {
   "cell_type": "code",
   "execution_count": 1,
   "metadata": {},
   "outputs": [],
   "source": [
    "import pandas as pd\n",
    "import numpy as np\n",
    "import time\n",
    "import nltk\n",
    "from sklearn import preprocessing\n",
    "from sklearn.feature_extraction.text import CountVectorizer"
   ]
  },
  {
   "cell_type": "code",
   "execution_count": 2,
   "metadata": {},
   "outputs": [
    {
     "name": "stderr",
     "output_type": "stream",
     "text": [
      "C:\\Users\\prath\\Anaconda3\\lib\\site-packages\\IPython\\core\\interactiveshell.py:2785: DtypeWarning: Columns (7) have mixed types. Specify dtype option on import or set low_memory=False.\n",
      "  interactivity=interactivity, compiler=compiler, result=result)\n",
      "C:\\Users\\prath\\Anaconda3\\lib\\site-packages\\IPython\\core\\interactiveshell.py:2785: DtypeWarning: Columns (5) have mixed types. Specify dtype option on import or set low_memory=False.\n",
      "  interactivity=interactivity, compiler=compiler, result=result)\n"
     ]
    }
   ],
   "source": [
    "file=pd.read_csv('title.rating.tsv', sep='\\t', header=0)\n",
    "data_rating = pd.DataFrame(file)\n",
    "file=pd.read_csv('title.akas.tsv', sep='\\t', header=0)\n",
    "data_akas = pd.DataFrame(file)\n",
    "file=pd.read_csv('title.basic.tsv', sep='\\t', header=0)\n",
    "data_basic = pd.DataFrame(file)"
   ]
  },
  {
   "cell_type": "code",
   "execution_count": 3,
   "metadata": {
    "scrolled": true
   },
   "outputs": [],
   "source": [
    "data_akas=data_akas[['titleId','language']]\n",
    "lang=[]\n",
    "for x in data_akas['language']:\n",
    "    if x != r'\\N':\n",
    "        lang.append(x)\n",
    "lang=list(set(lang))\n",
    "lang.sort()"
   ]
  },
  {
   "cell_type": "code",
   "execution_count": 4,
   "metadata": {},
   "outputs": [],
   "source": [
    "langs_used=[r'te' ,r'en', r'hi']\n",
    "remove=[]\n",
    "for x in range(0,len(data_akas['language'])):\n",
    "        if data_akas['language'][x] not in langs_used:\n",
    "            remove.append(x)\n",
    "data_akas=data_akas.drop(remove)\n",
    "data_akas=data_akas.drop_duplicates(['titleId'])"
   ]
  },
  {
   "cell_type": "code",
   "execution_count": 5,
   "metadata": {},
   "outputs": [],
   "source": [
    "remove=[]\n",
    "for w in range(0,len(data_basic)):\n",
    "    if data_basic['titleType'][w]!=r'movie':\n",
    "        remove.append(w)\n",
    "data_basic=data_basic.drop(data_basic.index[remove])"
   ]
  },
  {
   "cell_type": "code",
   "execution_count": 6,
   "metadata": {
    "scrolled": true
   },
   "outputs": [],
   "source": [
    "data_basic=data_basic.drop(['endYear','runtimeMinutes','originalTitle'], axis = 1)\n",
    "\n",
    "data_basic=data_basic.set_index(str('tconst'))\n",
    "data_akas=data_akas.set_index(str('titleId'))"
   ]
  },
  {
   "cell_type": "code",
   "execution_count": 7,
   "metadata": {},
   "outputs": [],
   "source": [
    "remove=[]\n",
    "for t_ID in range(0,len(data_basic)):\n",
    "    if data_basic['genres'][t_ID] == r'\\N':# or data_basic['genres'][t_ID] == r'Documentary':\n",
    "        remove.append(t_ID)\n",
    "\n",
    "data_basic=data_basic.drop(data_basic.index[remove])"
   ]
  },
  {
   "cell_type": "code",
   "execution_count": 8,
   "metadata": {},
   "outputs": [],
   "source": [
    "remove=[]\n",
    "for t_ID in range(0,len(data_basic)):\n",
    "    if data_basic['startYear'][t_ID] == r'\\N' or int(data_basic['startYear'][t_ID]) < 1980:\n",
    "        remove.append(t_ID)\n",
    "\n",
    "data_basic=data_basic.drop(data_basic.index[remove])"
   ]
  },
  {
   "cell_type": "code",
   "execution_count": 9,
   "metadata": {
    "scrolled": true
   },
   "outputs": [],
   "source": [
    "selected_lang_movies=[]\n",
    "remove=[]\n",
    "title_id=list(data_akas.index.values)\n",
    "tconst = list(data_basic.index.values)\n",
    "for t_ID in range(0,len(data_basic)):\n",
    "    if tconst[t_ID] not in title_id:\n",
    "        remove.append(t_ID)\n",
    "\n",
    "data_basic=data_basic.drop(data_basic.index[remove])"
   ]
  },
  {
   "cell_type": "code",
   "execution_count": 10,
   "metadata": {},
   "outputs": [],
   "source": [
    "remove=[]\n",
    "title_id=list(data_akas.index.values)\n",
    "tconst = list(data_basic.index.values)\n",
    "for t_ID in range(0,len(data_akas)):\n",
    "    if title_id[t_ID] not in tconst:\n",
    "        remove.append(t_ID)\n",
    "\n",
    "data_akas=data_akas.drop(data_akas.index[remove])\n",
    "data=data_akas.join(data_basic)"
   ]
  },
  {
   "cell_type": "code",
   "execution_count": 11,
   "metadata": {},
   "outputs": [],
   "source": [
    "remove=[]\n",
    "title_id=list(data.index.values)\n",
    "t_id=list(data_rating.index.values)\n",
    "for t_id in range(0,len(data_rating)):\n",
    "    if data_rating['tconst'][t_id] not in title_id:\n",
    "        remove.append(t_id)\n",
    "        \n",
    "data_rating=data_rating.drop(data_rating.index[remove])\n",
    "data_rating=data_rating.set_index(str('tconst'))"
   ]
  },
  {
   "cell_type": "code",
   "execution_count": 12,
   "metadata": {},
   "outputs": [],
   "source": [
    "remove=[]\n",
    "title_id=list(data.index.values)\n",
    "tconst = list(data_rating.index.values)\n",
    "for t_ID in range(0,len(data)):\n",
    "    if title_id[t_ID] not in tconst:\n",
    "        remove.append(t_ID)\n",
    "\n",
    "data=data.drop(data.index[remove])\n",
    "t_id=['numVotes','averageRating']\n",
    "data_rating=data_rating[t_id]\n",
    "data=data.join(data_rating)"
   ]
  },
  {
   "cell_type": "code",
   "execution_count": 13,
   "metadata": {},
   "outputs": [],
   "source": [
    "remove=[]\n",
    "for t_ID in range(0,len(data)):\n",
    "    if np.isnan(data['averageRating'][t_ID]):\n",
    "        remove.append(t_ID)\n",
    "\n",
    "data=data.drop(data.index[remove])"
   ]
  },
  {
   "cell_type": "code",
   "execution_count": 14,
   "metadata": {
    "scrolled": true
   },
   "outputs": [],
   "source": [
    "remove=[]\n",
    "for t_ID in range(0,len(data)):\n",
    "    if data['numVotes'][t_ID] <500:\n",
    "        remove.append(t_ID)\n",
    "        \n",
    "data=data.drop(data.index[remove])"
   ]
  },
  {
   "cell_type": "code",
   "execution_count": 15,
   "metadata": {
    "scrolled": true
   },
   "outputs": [],
   "source": [
    "remove=[]\n",
    "for t_ID in range(0,len(data)):\n",
    "    if data['averageRating'][t_ID] <3:\n",
    "        remove.append(t_ID)\n",
    "#len(remove)\n",
    "data=data.drop(data.index[remove])"
   ]
  },
  {
   "cell_type": "code",
   "execution_count": 16,
   "metadata": {},
   "outputs": [],
   "source": [
    "remove=[]\n",
    "for t_ID in range(0,len(data)):\n",
    "    if data['isAdult'][t_ID] ==1:\n",
    "        remove.append(t_ID)\n",
    "data=data.drop(data.index[remove])\n",
    "data=data.drop(['isAdult','language','titleType'], axis = 1)"
   ]
  },
  {
   "cell_type": "code",
   "execution_count": 17,
   "metadata": {
    "scrolled": true
   },
   "outputs": [],
   "source": [
    "genres=''\n",
    "for t_id in range(len(data)):\n",
    "    genres += data['genres'][t_id] + ','\n",
    "genres = nltk.word_tokenize(genres)\n",
    "\n",
    "movie_genre=[]\n",
    "for i in genres:\n",
    "    i = i.lower()\n",
    "    movie_genre.append(i)\n",
    "movie_genre = list(set(movie_genre))\n",
    "if 'sci-fi' in movie_genre:\n",
    "    movie_genre.remove('sci-fi')\n",
    "    movie_genre.append('scifi')\n",
    "movie_genre.remove(',')"
   ]
  },
  {
   "cell_type": "code",
   "execution_count": 18,
   "metadata": {
    "scrolled": true
   },
   "outputs": [
    {
     "name": "stderr",
     "output_type": "stream",
     "text": [
      "C:\\Users\\prath\\Anaconda3\\lib\\site-packages\\ipykernel_launcher.py:14: SettingWithCopyWarning: \n",
      "A value is trying to be set on a copy of a slice from a DataFrame\n",
      "\n",
      "See the caveats in the documentation: http://pandas.pydata.org/pandas-docs/stable/indexing.html#indexing-view-versus-copy\n",
      "  \n"
     ]
    }
   ],
   "source": [
    "for t_id in range(0,len(data)):\n",
    "    genre = nltk.word_tokenize(data['genres'][t_id])\n",
    "    genre = list(set(genre))\n",
    "    if 'sci-fi' in genre:\n",
    "        genre.remove('sci-fi')\n",
    "        genre.append('scifi')\n",
    "    if ',' in genre:\n",
    "        genre.remove(',')\n",
    "    genre_movie=''\n",
    "    for word in genre:\n",
    "        genre_movie += word + ' , '\n",
    "    genre_movie=genre_movie[:-2]\n",
    "    genre_movie = genre_movie.lower()  \n",
    "    data['genres'][t_id] = genre_movie"
   ]
  },
  {
   "cell_type": "code",
   "execution_count": 19,
   "metadata": {},
   "outputs": [],
   "source": [
    "vector = CountVectorizer(vocabulary=movie_genre)\n",
    "x = vector.fit_transform(list(data['genres'])).toarray()\n",
    "\n",
    "genre_df = pd.DataFrame(x)\n",
    "index = list(data.index.values)\n",
    "genre_df.index=index\n",
    "genre_df.columns=movie_genre\n",
    "genre_df.index.name='titleId'"
   ]
  },
  {
   "cell_type": "code",
   "execution_count": 20,
   "metadata": {},
   "outputs": [],
   "source": [
    "data.to_csv('Cleaned data\\cleaned_data.csv')\n",
    "genre_df.to_csv('Cleaned data\\genre.csv')"
   ]
  },
  {
   "cell_type": "code",
   "execution_count": null,
   "metadata": {},
   "outputs": [],
   "source": []
  },
  {
   "cell_type": "code",
   "execution_count": null,
   "metadata": {},
   "outputs": [],
   "source": []
  },
  {
   "cell_type": "code",
   "execution_count": null,
   "metadata": {},
   "outputs": [],
   "source": []
  }
 ],
 "metadata": {
  "kernelspec": {
   "display_name": "Python 3",
   "language": "python",
   "name": "python3"
  },
  "language_info": {
   "codemirror_mode": {
    "name": "ipython",
    "version": 3
   },
   "file_extension": ".py",
   "mimetype": "text/x-python",
   "name": "python",
   "nbconvert_exporter": "python",
   "pygments_lexer": "ipython3",
   "version": "3.6.5"
  }
 },
 "nbformat": 4,
 "nbformat_minor": 2
}
